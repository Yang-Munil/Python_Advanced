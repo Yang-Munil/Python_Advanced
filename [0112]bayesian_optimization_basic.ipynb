{
 "cells": [
  {
   "cell_type": "markdown",
   "metadata": {},
   "source": [
    "##### 범위를 가지는 x, y 데이터를 기반으로 특정 값을 반환하는 함수  생성"
   ]
  },
  {
   "cell_type": "code",
   "execution_count": 1,
   "metadata": {
    "ExecuteTime": {
     "end_time": "2021-01-13T02:15:16.457124Z",
     "start_time": "2021-01-13T02:15:16.449911Z"
    }
   },
   "outputs": [],
   "source": [
    "# 범위를 가지는 x, y 데이터를 기반으로 특정 값을 반환하는 함수.\n",
    "# Bayesian optimization 은 넓은 범위의 입력값들을 이 함수에 입력했을 때 어떤 입력값이 이 함수를 최대화 하는지 추론.\n",
    "def black_box_function(x, y):\n",
    "\n",
    "    return -x ** 2 - (y - 1) ** 2 + 1"
   ]
  },
  {
   "cell_type": "markdown",
   "metadata": {},
   "source": [
    "##### 입력 파라미터들의 범위(공간) 설정 "
   ]
  },
  {
   "cell_type": "code",
   "execution_count": 2,
   "metadata": {
    "ExecuteTime": {
     "end_time": "2021-01-13T02:15:39.831431Z",
     "start_time": "2021-01-13T02:15:39.816793Z"
    }
   },
   "outputs": [],
   "source": [
    "# 입력 파라미터들의 범위(공간)\n",
    "pbounds = {'x': (2, 4), 'y': (-3, 3)}"
   ]
  },
  {
   "cell_type": "markdown",
   "metadata": {},
   "source": [
    "##### BayesianOptimization 객체 생성하고 함수 반환값을 최대화 할 수 있는 입력 파라미터 값과 반환값을 iteration하면서 최적 검색"
   ]
  },
  {
   "cell_type": "code",
   "execution_count": 3,
   "metadata": {
    "ExecuteTime": {
     "end_time": "2021-01-13T02:16:15.922227Z",
     "start_time": "2021-01-13T02:16:14.937495Z"
    }
   },
   "outputs": [
    {
     "name": "stdout",
     "output_type": "stream",
     "text": [
      "|   iter    |  target   |     x     |     y     |\n",
      "-------------------------------------------------\n",
      "| \u001b[0m 1       \u001b[0m | \u001b[0m-7.135   \u001b[0m | \u001b[0m 2.834   \u001b[0m | \u001b[0m 1.322   \u001b[0m |\n",
      "| \u001b[0m 2       \u001b[0m | \u001b[0m-7.78    \u001b[0m | \u001b[0m 2.0     \u001b[0m | \u001b[0m-1.186   \u001b[0m |\n",
      "| \u001b[95m 3       \u001b[0m | \u001b[95m-7.11    \u001b[0m | \u001b[95m 2.218   \u001b[0m | \u001b[95m-0.7867  \u001b[0m |\n",
      "| \u001b[0m 4       \u001b[0m | \u001b[0m-12.4    \u001b[0m | \u001b[0m 3.66    \u001b[0m | \u001b[0m 0.9608  \u001b[0m |\n",
      "| \u001b[95m 5       \u001b[0m | \u001b[95m-6.999   \u001b[0m | \u001b[95m 2.23    \u001b[0m | \u001b[95m-0.7392  \u001b[0m |\n",
      "| \u001b[95m 6       \u001b[0m | \u001b[95m-3.047   \u001b[0m | \u001b[95m 2.0     \u001b[0m | \u001b[95m 0.7829  \u001b[0m |\n",
      "| \u001b[0m 7       \u001b[0m | \u001b[0m-4.166   \u001b[0m | \u001b[0m 2.0     \u001b[0m | \u001b[0m 2.08    \u001b[0m |\n",
      "=================================================\n"
     ]
    }
   ],
   "source": [
    "from bayes_opt import BayesianOptimization\n",
    "\n",
    "# 최적화할 함수와, 입력 파라미터의 범위를 입력 받아서 BayesianOptimization 객체 생성 \n",
    "optimizer = BayesianOptimization(\n",
    "    f=black_box_function,\n",
    "    pbounds=pbounds,\n",
    "    random_state=1\n",
    ")\n",
    "\n",
    "# 함수 반환값을 최대화 할 수 있는 입력 파라미터 값과 반환값을 iteration하면서 최적 검색 \n",
    "optimizer.maximize(\n",
    "    init_points=2,\n",
    "    n_iter=5,\n",
    ")"
   ]
  },
  {
   "cell_type": "markdown",
   "metadata": {},
   "source": [
    "##### 순차적으로 반환값의 최대값을 찾는 로직 비교 "
   ]
  },
  {
   "cell_type": "code",
   "execution_count": 4,
   "metadata": {
    "ExecuteTime": {
     "end_time": "2021-01-13T02:17:42.588108Z",
     "start_time": "2021-01-13T02:17:42.580132Z"
    }
   },
   "outputs": [
    {
     "name": "stdout",
     "output_type": "stream",
     "text": [
      "iteration count: 1260 max result: -3.0 x value: 2.0 y value: 1.0000000000000036\n"
     ]
    }
   ],
   "source": [
    "import numpy as np\n",
    "\n",
    "result = -9999\n",
    "x_val = -9999\n",
    "y_val = -9999\n",
    "iter_count = 0\n",
    "\n",
    "for x in np.arange(2, 4.1, 0.1):\n",
    "    for y in np.arange(-3, 3, 0.1):\n",
    "        current_result = black_box_function(x, y)\n",
    "        iter_count += 1\n",
    "        if current_result > result:\n",
    "            result = current_result\n",
    "            x_val = x\n",
    "            y_val = y\n",
    "\n",
    "print('iteration count:', iter_count, 'max result:', result, 'x value:', x_val, 'y value:', y_val)"
   ]
  },
  {
   "cell_type": "markdown",
   "metadata": {},
   "source": [
    "##### 입력 파라미터들의 범위(공간)을 넓혀서 다시 수행 비교. "
   ]
  },
  {
   "cell_type": "code",
   "execution_count": 5,
   "metadata": {
    "ExecuteTime": {
     "end_time": "2021-01-13T02:18:18.058277Z",
     "start_time": "2021-01-13T02:18:16.817058Z"
    }
   },
   "outputs": [
    {
     "name": "stdout",
     "output_type": "stream",
     "text": [
      "|   iter    |  target   |     x     |     y     |\n",
      "-------------------------------------------------\n",
      "| \u001b[0m 1       \u001b[0m | \u001b[0m-708.4   \u001b[0m | \u001b[0m 17.85   \u001b[0m | \u001b[0m 20.77   \u001b[0m |\n",
      "| \u001b[95m 2       \u001b[0m | \u001b[95m-38.74   \u001b[0m | \u001b[95m 2.004   \u001b[0m | \u001b[95m 6.977   \u001b[0m |\n",
      "| \u001b[0m 3       \u001b[0m | \u001b[0m-52.3    \u001b[0m | \u001b[0m 3.172   \u001b[0m | \u001b[0m 7.576   \u001b[0m |\n",
      "| \u001b[0m 4       \u001b[0m | \u001b[0m-117.8   \u001b[0m | \u001b[0m 10.14   \u001b[0m | \u001b[0m-2.995   \u001b[0m |\n",
      "| \u001b[0m 5       \u001b[0m | \u001b[0m-1.615e+0\u001b[0m | \u001b[0m 40.0    \u001b[0m | \u001b[0m-3.0     \u001b[0m |\n",
      "| \u001b[0m 6       \u001b[0m | \u001b[0m-844.0   \u001b[0m | \u001b[0m 2.0     \u001b[0m | \u001b[0m 30.0    \u001b[0m |\n",
      "| \u001b[95m 7       \u001b[0m | \u001b[95m-19.0    \u001b[0m | \u001b[95m 2.0     \u001b[0m | \u001b[95m-3.0     \u001b[0m |\n",
      "| \u001b[0m 8       \u001b[0m | \u001b[0m-20.01   \u001b[0m | \u001b[0m 4.499   \u001b[0m | \u001b[0m 1.882   \u001b[0m |\n",
      "| \u001b[95m 9       \u001b[0m | \u001b[95m-3.086   \u001b[0m | \u001b[95m 2.0     \u001b[0m | \u001b[95m 1.293   \u001b[0m |\n",
      "| \u001b[0m 10      \u001b[0m | \u001b[0m-8.34    \u001b[0m | \u001b[0m 2.0     \u001b[0m | \u001b[0m 3.311   \u001b[0m |\n",
      "| \u001b[95m 11      \u001b[0m | \u001b[95m-3.071   \u001b[0m | \u001b[95m 2.0     \u001b[0m | \u001b[95m 0.7333  \u001b[0m |\n",
      "| \u001b[0m 12      \u001b[0m | \u001b[0m-6.037   \u001b[0m | \u001b[0m 2.523   \u001b[0m | \u001b[0m 0.1803  \u001b[0m |\n",
      "=================================================\n"
     ]
    }
   ],
   "source": [
    "# 입력 파라미터들의 범위(공간)\n",
    "pbounds = {'x': (2, 40), 'y': (-3, 30)}\n",
    "\n",
    "optimizer = BayesianOptimization(\n",
    "    f=black_box_function,\n",
    "    pbounds=pbounds,\n",
    "    random_state=1,\n",
    ")\n",
    "\n",
    "optimizer.maximize(\n",
    "    init_points=2,\n",
    "    n_iter=10,\n",
    ")"
   ]
  },
  {
   "cell_type": "code",
   "execution_count": 6,
   "metadata": {
    "ExecuteTime": {
     "end_time": "2021-01-13T02:18:25.119979Z",
     "start_time": "2021-01-13T02:18:24.905785Z"
    }
   },
   "outputs": [
    {
     "name": "stdout",
     "output_type": "stream",
     "text": [
      "iteration count: 125730 max result: -3.0 x value: 2.0 y value: 1.0000000000000036\n"
     ]
    }
   ],
   "source": [
    "import numpy as np\n",
    "\n",
    "result = -9999\n",
    "x_val = -9999\n",
    "y_val = -9999\n",
    "iter_count = 0\n",
    "for x in np.arange(2, 40.1, 0.1):\n",
    "    for y in np.arange(-3, 30, 0.1):\n",
    "        current_result = black_box_function(x, y)\n",
    "        iter_count += 1\n",
    "        if current_result > result:\n",
    "            result = current_result\n",
    "            x_val = x\n",
    "            y_val = y\n",
    "\n",
    "print('iteration count:', iter_count, 'max result:', result, 'x value:', x_val, 'y value:', y_val)"
   ]
  },
  {
   "cell_type": "code",
   "execution_count": null,
   "metadata": {},
   "outputs": [],
   "source": []
  }
 ],
 "metadata": {
  "kernelspec": {
   "display_name": "Python 3",
   "language": "python",
   "name": "python3"
  },
  "language_info": {
   "codemirror_mode": {
    "name": "ipython",
    "version": 3
   },
   "file_extension": ".py",
   "mimetype": "text/x-python",
   "name": "python",
   "nbconvert_exporter": "python",
   "pygments_lexer": "ipython3",
   "version": "3.7.4"
  },
  "toc": {
   "base_numbering": 1,
   "nav_menu": {},
   "number_sections": false,
   "sideBar": true,
   "skip_h1_title": false,
   "title_cell": "Table of Contents",
   "title_sidebar": "Contents",
   "toc_cell": false,
   "toc_position": {},
   "toc_section_display": true,
   "toc_window_display": false
  },
  "varInspector": {
   "cols": {
    "lenName": 16,
    "lenType": 16,
    "lenVar": 40
   },
   "kernels_config": {
    "python": {
     "delete_cmd_postfix": "",
     "delete_cmd_prefix": "del ",
     "library": "var_list.py",
     "varRefreshCmd": "print(var_dic_list())"
    },
    "r": {
     "delete_cmd_postfix": ") ",
     "delete_cmd_prefix": "rm(",
     "library": "var_list.r",
     "varRefreshCmd": "cat(var_dic_list()) "
    }
   },
   "types_to_exclude": [
    "module",
    "function",
    "builtin_function_or_method",
    "instance",
    "_Feature"
   ],
   "window_display": false
  }
 },
 "nbformat": 4,
 "nbformat_minor": 4
}
